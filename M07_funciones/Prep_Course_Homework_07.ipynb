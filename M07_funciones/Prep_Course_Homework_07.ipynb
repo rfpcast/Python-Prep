{
 "cells": [
  {
   "attachments": {},
   "cell_type": "markdown",
   "metadata": {},
   "source": [
    "## Funciones"
   ]
  },
  {
   "attachments": {},
   "cell_type": "markdown",
   "metadata": {},
   "source": [
    "1) Crear una función que reciba un número como parámetro y devuelva True si es primo y False si no lo es"
   ]
  },
  {
   "cell_type": "code",
   "execution_count": 2,
   "metadata": {},
   "outputs": [
    {
     "name": "stdout",
     "output_type": "stream",
     "text": [
      "True\n"
     ]
    }
   ],
   "source": [
    "def numero_primo(num):\n",
    "   \n",
    "    flag = True\n",
    "    \n",
    "    for i in range(2, num):\n",
    "        if num % i == 0 or num < i:\n",
    "            flag = False\n",
    "            break\n",
    "    \n",
    "    return flag        \n",
    "    \n",
    "x = 0\n",
    "print(numero_primo(x))"
   ]
  },
  {
   "attachments": {},
   "cell_type": "markdown",
   "metadata": {},
   "source": [
    "2) Utilizando la función del punto 1, realizar otra función que reciba de parámetro una lista de números y devuelva sólo aquellos que son primos en otra lista"
   ]
  },
  {
   "cell_type": "code",
   "execution_count": 21,
   "metadata": {},
   "outputs": [
    {
     "name": "stdout",
     "output_type": "stream",
     "text": [
      "[1, 2, 3, 5, 7, 11, 13, 17]\n"
     ]
    }
   ],
   "source": [
    "def numero_primo_lista(lis):\n",
    "    \n",
    "    lista_resultados = []\n",
    "    \n",
    "    for i in lis:\n",
    "        if numero_primo(int(i)):\n",
    "            lista_resultados.append(i)\n",
    "    \n",
    "    return lista_resultados\n",
    "    \n",
    "x = [1,2,3,4,5,6,7,8,9,10,11,12,13,14,15,16,17]    \n",
    "lista = numero_primo_lista(x)\n",
    "print(lista)"
   ]
  },
  {
   "attachments": {},
   "cell_type": "markdown",
   "metadata": {},
   "source": [
    "3) Crear una función que al recibir una lista de números, devuelva el que más se repite y cuántas veces lo hace. Si hay más de un \"más repetido\", que devuelva cualquiera"
   ]
  },
  {
   "cell_type": "code",
   "execution_count": 31,
   "metadata": {},
   "outputs": [
    {
     "name": "stdout",
     "output_type": "stream",
     "text": [
      "[1, 3, 4, 55, 6, 8, 4]\n",
      "[2, 2, 7, 7]\n"
     ]
    }
   ],
   "source": [
    "lista_normal = [1,2,2,3,4,55,6,7,7,8,4]\n",
    "\n",
    "def lista_repetidos(lis):\n",
    "\n",
    "    val = []\n",
    "    rep = []\n",
    "\n",
    "    for x, v in enumerate(lis):\n",
    "        if lis[x] == lis[x-1]:\n",
    "            rep.append(v)\n",
    "            rep.append(lis[x-1])\n",
    "            val.remove(lis[x-1])\n",
    "        else:\n",
    "            val.append(v)\n",
    "\n",
    "    print(val)\n",
    "    print(rep)\n",
    "\n",
    "lista_repetidos(lista_normal)"
   ]
  },
  {
   "attachments": {},
   "cell_type": "markdown",
   "metadata": {},
   "source": [
    "4) Crear una función que convierta entre grados Celsius, Farenheit y Kelvin<br>\n",
    "Fórmula 1\t: (°C × 9/5) + 32 = °F<br>\n",
    "Fórmula 2\t: °C + 273.15 = °K<br>\n",
    "Debe recibir 3 parámetros: el valor, la medida de orígen y la medida de destino\n"
   ]
  },
  {
   "cell_type": "code",
   "execution_count": 32,
   "metadata": {},
   "outputs": [
    {
     "data": {
      "text/plain": [
       "305.15"
      ]
     },
     "execution_count": 32,
     "metadata": {},
     "output_type": "execute_result"
    }
   ],
   "source": [
    "def temperature_converter(val,temp_one,temp_two):\n",
    "    \n",
    "    temp_res = 0\n",
    "    \n",
    "    if temp_one == \"C\" and temp_two == \"F\":\n",
    "        temp_res = ((val*9)/5) + 32\n",
    "    elif temp_one == \"C\" and temp_two == \"K\":\n",
    "        temp_res = val + 273.15\n",
    "    elif temp_one == \"K\" or temp_one == \"F\":\n",
    "        temp_res = ((val - 32)*5)/9 + 273.15\n",
    "    elif temp_two == \"F\" or temp_two == \"K\":\n",
    "        temp_res = ((val - 273.15)*9)/5 + 32\n",
    "    else:\n",
    "        print(\"Ingrese un codigo valido\")\n",
    "        \n",
    "    return temp_res\n",
    "\n",
    "celsius = \"C\"\n",
    "kelvin = \"K\"\n",
    "farenheit = \"F\"\n",
    "\n",
    "T = 32\n",
    "\n",
    "temperature_converter(T,celsius,kelvin)"
   ]
  },
  {
   "attachments": {},
   "cell_type": "markdown",
   "metadata": {},
   "source": [
    "5) Iterando una lista con los tres valores posibles de temperatura que recibe la función del punto 5, hacer un print para cada combinación de los mismos:"
   ]
  },
  {
   "cell_type": "code",
   "execution_count": null,
   "metadata": {},
   "outputs": [],
   "source": []
  },
  {
   "attachments": {},
   "cell_type": "markdown",
   "metadata": {},
   "source": [
    "6) Armar una función que devuelva el factorial de un número. Tener en cuenta que el usuario puede equivocarse y enviar de parámetro un número no entero o negativo"
   ]
  },
  {
   "cell_type": "code",
   "execution_count": 44,
   "metadata": {},
   "outputs": [
    {
     "data": {
      "text/plain": [
       "120"
      ]
     },
     "execution_count": 44,
     "metadata": {},
     "output_type": "execute_result"
    }
   ],
   "source": [
    "def factorial(num):\n",
    "    \n",
    "    if num > 1:\n",
    "        num = num * factorial(num-1) \n",
    "        \n",
    "    return num\n",
    "    \n",
    "factorial(5)"
   ]
  }
 ],
 "metadata": {
  "interpreter": {
   "hash": "c85384e4cb51c8b72350f3a8712cc8351fdc3955e32a27f9b60c6242ab125f01"
  },
  "kernelspec": {
   "display_name": "Python 3 (ipykernel)",
   "language": "python",
   "name": "python3"
  },
  "language_info": {
   "codemirror_mode": {
    "name": "ipython",
    "version": 3
   },
   "file_extension": ".py",
   "mimetype": "text/x-python",
   "name": "python",
   "nbconvert_exporter": "python",
   "pygments_lexer": "ipython3",
   "version": "3.10.11"
  }
 },
 "nbformat": 4,
 "nbformat_minor": 4
}
