{
 "cells": [
  {
   "attachments": {},
   "cell_type": "markdown",
   "metadata": {},
   "source": [
    "## Clases y Programación Orientada a Objetos"
   ]
  },
  {
   "attachments": {},
   "cell_type": "markdown",
   "metadata": {},
   "source": [
    "1) Crear la clase vehículo que contenga los atributos:<br>\n",
    "Color<br>\n",
    "Si es moto, auto, camioneta ó camión<br>\n",
    "Cilindrada del motor"
   ]
  },
  {
   "cell_type": "code",
   "execution_count": 11,
   "metadata": {},
   "outputs": [],
   "source": [
    "class vehiculo:\n",
    "    def __init__(self, color, tipo, cilindrada):\n",
    "        self.color = color\n",
    "        self.tipo = tipo\n",
    "        self.cilindrada = cilindrada\n",
    "        \n",
    "    def acelerar(self):\n",
    "        print(\"Acelerando\")\n",
    "    \n",
    "    def frenar(self):\n",
    "        print(\"Frenando\")\n",
    "    \n",
    "    def doblar(self):\n",
    "        print(\"Doblar\")"
   ]
  },
  {
   "attachments": {},
   "cell_type": "markdown",
   "metadata": {},
   "source": [
    "2) A la clase Vehiculo creada en el punto 1, agregar los siguientes métodos:<br>\n",
    "Acelerar<br>\n",
    "Frenar<br>\n",
    "Doblar<br>"
   ]
  },
  {
   "cell_type": "code",
   "execution_count": 8,
   "metadata": {},
   "outputs": [],
   "source": [
    "\n",
    "    "
   ]
  },
  {
   "attachments": {},
   "cell_type": "markdown",
   "metadata": {},
   "source": [
    "3) Instanciar 3 objetos de la clase vehículo y ejecutar sus métodos, probar luego el resultado"
   ]
  },
  {
   "cell_type": "code",
   "execution_count": 12,
   "metadata": {},
   "outputs": [
    {
     "name": "stdout",
     "output_type": "stream",
     "text": [
      "Acelerando\n",
      "Acelerando\n",
      "Acelerando\n"
     ]
    }
   ],
   "source": [
    "auto1 = vehiculo(\"negro\",\"auto\",\"500cc\")\n",
    "camion1 = vehiculo(\"rojo\",\"camion\",\"1200cc\")\n",
    "moto1 = vehiculo(\"azul\",\"moto\",\"200cc\")\n",
    "\n",
    "auto1.acelerar()\n",
    "camion1.acelerar()\n",
    "moto1.acelerar()"
   ]
  },
  {
   "attachments": {},
   "cell_type": "markdown",
   "metadata": {},
   "source": [
    "4) Agregar a la clase Vehiculo, un método que muestre su estado, es decir, a que velocidad se encuentra y su dirección. Y otro método que muestre color, tipo y cilindrada"
   ]
  },
  {
   "cell_type": "code",
   "execution_count": 2,
   "metadata": {},
   "outputs": [
    {
     "name": "stdout",
     "output_type": "stream",
     "text": [
      "la velocidad del auto es de 70K/h y su direccion es Norte\n",
      "El auto es de color verde y su cilindrada es de 900cc\n"
     ]
    }
   ],
   "source": [
    "class vehiculo:\n",
    "    def __init__(self, color, tipo, cilindrada, vel, dir):\n",
    "        self.color = color\n",
    "        self.tipo = tipo\n",
    "        self.cilindrada = cilindrada\n",
    "        self.vel = vel\n",
    "        self.dir = dir\n",
    "        \n",
    "    def acelerar(self):\n",
    "        print(\"Acelerando\")\n",
    "    \n",
    "    def frenar(self):\n",
    "        print(\"Frenando\")\n",
    "    \n",
    "    def doblar(self):\n",
    "        print(\"Doblar\")\n",
    "        \n",
    "    def estado(self):\n",
    "        print(f\"la velocidad del {self.tipo} es de {self.vel} y su direccion es {self.dir}\")\n",
    "    \n",
    "    def caracteristicas(self):\n",
    "        print(f\"El {self.tipo} es de color {self.color} y su cilindrada es de {self.cilindrada}\")\n",
    "        \n",
    "carro1 = vehiculo(\"verde\",\"auto\",\"900cc\",\"70K/h\",\"Norte\")\n",
    "\n",
    "carro1.estado()\n",
    "carro1.caracteristicas()\n",
    "        \n",
    "    "
   ]
  },
  {
   "attachments": {},
   "cell_type": "markdown",
   "metadata": {},
   "source": [
    "5) Crear una clase que permita utilizar las funciones creadas en la práctica del módulo 7<br>\n",
    "Verificar Primo<br>\n",
    "Valor modal<br>\n",
    "Conversión grados<br>\n",
    "Factorial<br>"
   ]
  },
  {
   "cell_type": "code",
   "execution_count": null,
   "metadata": {},
   "outputs": [],
   "source": []
  },
  {
   "attachments": {},
   "cell_type": "markdown",
   "metadata": {},
   "source": [
    "6) Probar las funciones incorporadas en la clase del punto 5"
   ]
  },
  {
   "cell_type": "code",
   "execution_count": 14,
   "metadata": {},
   "outputs": [
    {
     "name": "stdout",
     "output_type": "stream",
     "text": [
      "[False, False, True, False, True, False, True, False, False, False, True, True, False, True, False, False, False, True]\n",
      "([1, 2, 3, 4, 5, 6, 7, 8, 9, 10, 12, 13, 14, 15, 16, 17], [11, 11])\n",
      "[33.8, 35.6, 37.4, 39.2, 41.0, 42.8, 44.6, 46.4, 48.2, 50.0, 51.8, 51.8, 53.6, 55.4, 57.2, 59.0, 60.8, 62.6]\n",
      "[1, 2, 6, 24, 120, 720, 5040, 40320, 362880, 3628800, 39916800, 39916800, 479001600, 6227020800, 87178291200, 1307674368000, 20922789888000, 355687428096000]\n"
     ]
    }
   ],
   "source": [
    "import mimodulo\n",
    "\n",
    "x = [1,2,3,4,5,6,7,8,9,10,11,11,12,13,14,15,16,17]    \n",
    "\n",
    "operador = mimodulo.Numero_para_operaciones(x)\n",
    "\n",
    "print(operador.es_primo())\n",
    "print(operador.lista_modal())\n",
    "print(operador.lista_temperatura(\"C\",\"F\"))\n",
    "print(operador.factorial())"
   ]
  },
  {
   "attachments": {},
   "cell_type": "markdown",
   "metadata": {},
   "source": [
    "7) Es necesario que la clase creada en el punto 5 contenga una lista, sobre la cual se apliquen las funciones incorporadas"
   ]
  },
  {
   "cell_type": "code",
   "execution_count": null,
   "metadata": {},
   "outputs": [],
   "source": [
    "x = [1,2,3,4,5,6,7,8,9,10,11,11,12,13,14,15,16,17]   "
   ]
  },
  {
   "attachments": {},
   "cell_type": "markdown",
   "metadata": {},
   "source": [
    "8) Crear un archivo .py aparte y ubicar allí la clase generada en el punto anterior. Luego realizar la importación del módulo y probar alguna de sus funciones"
   ]
  },
  {
   "cell_type": "code",
   "execution_count": 15,
   "metadata": {},
   "outputs": [
    {
     "name": "stdout",
     "output_type": "stream",
     "text": [
      "[False, False, True, False, True, False, True, False, False, False, True, True, False, True, False, False, False, True]\n",
      "([1, 2, 3, 4, 5, 6, 7, 8, 9, 10, 12, 13, 14, 15, 16, 17], [11, 11])\n",
      "[33.8, 35.6, 37.4, 39.2, 41.0, 42.8, 44.6, 46.4, 48.2, 50.0, 51.8, 51.8, 53.6, 55.4, 57.2, 59.0, 60.8, 62.6]\n",
      "[1, 2, 6, 24, 120, 720, 5040, 40320, 362880, 3628800, 39916800, 39916800, 479001600, 6227020800, 87178291200, 1307674368000, 20922789888000, 355687428096000]\n"
     ]
    }
   ],
   "source": [
    "import mimodulo\n",
    "\n",
    "x = [1,2,3,4,5,6,7,8,9,10,11,11,12,13,14,15,16,17]    \n",
    "\n",
    "operador = mimodulo.Numero_para_operaciones(x)\n",
    "\n",
    "print(operador.es_primo())\n",
    "print(operador.lista_modal())\n",
    "print(operador.lista_temperatura(\"C\",\"F\"))\n",
    "print(operador.factorial())"
   ]
  }
 ],
 "metadata": {
  "interpreter": {
   "hash": "c85384e4cb51c8b72350f3a8712cc8351fdc3955e32a27f9b60c6242ab125f01"
  },
  "kernelspec": {
   "display_name": "Python 3 (ipykernel)",
   "language": "python",
   "name": "python3"
  },
  "language_info": {
   "codemirror_mode": {
    "name": "ipython",
    "version": 3
   },
   "file_extension": ".py",
   "mimetype": "text/x-python",
   "name": "python",
   "nbconvert_exporter": "python",
   "pygments_lexer": "ipython3",
   "version": "3.10.11"
  }
 },
 "nbformat": 4,
 "nbformat_minor": 4
}
