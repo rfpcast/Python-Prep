{
 "cells": [
  {
   "cell_type": "code",
   "execution_count": 15,
   "metadata": {},
   "outputs": [],
   "source": [
    "def Factorial(num):\n",
    "    \n",
    "    if type(num) != int or num <= 0:\n",
    "        return None \n",
    "    else:\n",
    "        return __Factorial(num)\n",
    "    \n",
    "def __Factorial(numero):\n",
    "    \n",
    "    if numero > 1:\n",
    "        numero = numero * __Factorial(numero-1)\n",
    "    return numero    "
   ]
  },
  {
   "cell_type": "code",
   "execution_count": 18,
   "metadata": {},
   "outputs": [
    {
     "data": {
      "text/plain": [
       "120"
      ]
     },
     "execution_count": 18,
     "metadata": {},
     "output_type": "execute_result"
    }
   ],
   "source": [
    "Factorial(5)"
   ]
  },
  {
   "cell_type": "code",
   "execution_count": 29,
   "metadata": {},
   "outputs": [],
   "source": [
    "def EsPrimo(valor):\n",
    "\n",
    "    respuesta = True\n",
    "    \n",
    "    if type(valor) != int:\n",
    "        respuesta = None\n",
    "    elif valor < 2:\n",
    "        respuesta = False\n",
    "    else:\n",
    "        for i in range(2, valor):\n",
    "            if valor % i == 0:\n",
    "                respuesta = False\n",
    "                break  \n",
    "    return respuesta"
   ]
  },
  {
   "cell_type": "code",
   "execution_count": 37,
   "metadata": {},
   "outputs": [],
   "source": [
    "EsPrimo(\"dos\")"
   ]
  },
  {
   "cell_type": "code",
   "execution_count": 43,
   "metadata": {},
   "outputs": [],
   "source": [
    "   \n",
    "def ClaseAnimal(especie, color):\n",
    "    \n",
    "    class claseAnimal:\n",
    "        def __init__(self,edad,especie,color):\n",
    "            self.edad = edad\n",
    "            self.especie = especie\n",
    "            self.color = color\n",
    "\n",
    "        def CumpliAnios(self):\n",
    "            self.edad = self.edad + 1\n",
    "            return self.edad\n",
    "\n",
    "    objeto = claseAnimal(0, especie, color)\n",
    "    return objeto\n"
   ]
  },
  {
   "cell_type": "code",
   "execution_count": 44,
   "metadata": {},
   "outputs": [
    {
     "data": {
      "text/plain": [
       "3"
      ]
     },
     "execution_count": 44,
     "metadata": {},
     "output_type": "execute_result"
    }
   ],
   "source": [
    "a = ClaseAnimal(\"Gato\",\"Azul\")\n",
    "a.CumpliAnios()\n",
    "a.CumpliAnios()\n",
    "a.CumpliAnios()"
   ]
  }
 ],
 "metadata": {
  "kernelspec": {
   "display_name": ".venv",
   "language": "python",
   "name": "python3"
  },
  "language_info": {
   "codemirror_mode": {
    "name": "ipython",
    "version": 3
   },
   "file_extension": ".py",
   "mimetype": "text/x-python",
   "name": "python",
   "nbconvert_exporter": "python",
   "pygments_lexer": "ipython3",
   "version": "3.10.11"
  },
  "orig_nbformat": 4
 },
 "nbformat": 4,
 "nbformat_minor": 2
}
