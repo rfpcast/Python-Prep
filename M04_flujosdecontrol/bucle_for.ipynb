{
 "cells": [
  {
   "cell_type": "code",
   "execution_count": 2,
   "metadata": {},
   "outputs": [
    {
     "name": "stdout",
     "output_type": "stream",
     "text": [
      "1\n",
      "2\n",
      "numero correcto\n",
      "4\n",
      "5\n"
     ]
    }
   ],
   "source": [
    "lista = [1,2,3,4,5]\n",
    "\n",
    "for num in lista: \n",
    " if num == 3:\n",
    "    print(\"numero correcto\")\n",
    " else:\n",
    "    print(num)"
   ]
  },
  {
   "cell_type": "code",
   "execution_count": 10,
   "metadata": {},
   "outputs": [
    {
     "name": "stdout",
     "output_type": "stream",
     "text": [
      "[1, 3, 4, 55, 6, 8, 4]\n",
      "[2, 2, 7, 7]\n"
     ]
    }
   ],
   "source": [
    "lista_normal = [1,2,2,3,4,55,6,7,7,8,4]\n",
    "\n",
    "def lista_repetidos(lis):\n",
    "\n",
    "    val = []\n",
    "    rep = []\n",
    "\n",
    "    for x, v in enumerate(lis):\n",
    "        if lis[x] == lis[x-1]:\n",
    "            rep.append(v)\n",
    "            rep.append(lis[x-1])\n",
    "            val.remove(lis[x-1])\n",
    "        else:\n",
    "            val.append(v)\n",
    "\n",
    "    print(val)\n",
    "    print(rep)\n",
    "\n",
    "lista_repetidos(lista_normal)\n",
    "    "
   ]
  },
  {
   "cell_type": "code",
   "execution_count": 14,
   "metadata": {},
   "outputs": [
    {
     "name": "stdout",
     "output_type": "stream",
     "text": [
      "[False, False, True, False, True, False, True, False, False, False, True, False, True, False, False, False, True]\n"
     ]
    }
   ],
   "source": [
    "def numero_primo_lista(lis):\n",
    "    \n",
    "    lista_resultados = []\n",
    "    \n",
    "    for i in lis:\n",
    "        flag = True\n",
    "        if i <= 2:\n",
    "            flag = False\n",
    "        else:\n",
    "            for s in range(2, i):\n",
    "                if i % s == 0:\n",
    "                    flag = False\n",
    "                    break\n",
    "        lista_resultados.append(flag)\n",
    "    \n",
    "    return lista_resultados\n",
    "    \n",
    "x = [1,2,3,4,5,6,7,8,9,10,11,12,13,14,15,16,17]    \n",
    "lista = numero_primo_lista(x)\n",
    "print(lista)"
   ]
  },
  {
   "cell_type": "code",
   "execution_count": 1,
   "metadata": {},
   "outputs": [
    {
     "name": "stdout",
     "output_type": "stream",
     "text": [
      "rodrigo\n"
     ]
    }
   ],
   "source": [
    "nombre = input(\"Cual es tu nombre\")\n",
    "print(nombre)"
   ]
  },
  {
   "cell_type": "code",
   "execution_count": 2,
   "metadata": {},
   "outputs": [
    {
     "data": {
      "text/plain": [
       "['bucle_for.ipynb',\n",
       " 'Prep_Course_Homework_04-Resuelto.ipynb',\n",
       " 'Prep_Course_Homework_04-Resuelto.py',\n",
       " 'Prep_Course_Homework_04.ipynb',\n",
       " 'Prep_Course_Homework_04.md',\n",
       " 'Prep_Course_Homework_04.py']"
      ]
     },
     "execution_count": 2,
     "metadata": {},
     "output_type": "execute_result"
    }
   ],
   "source": [
    "import os\n",
    "\n",
    "os.listdir(\"./\")"
   ]
  },
  {
   "cell_type": "code",
   "execution_count": 33,
   "metadata": {},
   "outputs": [],
   "source": [
    "def __Factorial(num):\n",
    "       \n",
    "        if num > 1:\n",
    "             num = num * __Factorial(num-1)\n",
    "            \n",
    "        return num    \n",
    "    \n",
    "def Factorial(numero):\n",
    "    \n",
    "        if numero <= 0 or type(numero) != int:\n",
    "            return None  #\"Ingrese un numero entero mayor a cero\"\n",
    "        else:\n",
    "            return __Factorial(numero)\n",
    "        \n",
    "Factorial(-2)"
   ]
  },
  {
   "cell_type": "code",
   "execution_count": 56,
   "metadata": {},
   "outputs": [
    {
     "data": {
      "text/plain": [
       "True"
      ]
     },
     "execution_count": 56,
     "metadata": {},
     "output_type": "execute_result"
    }
   ],
   "source": [
    "def EsPrimo(valor):\n",
    "\n",
    "    respuesta = True\n",
    "    \n",
    "    if valor < 2 or type(valor) != int:\n",
    "        respuesta = False\n",
    "    else:\n",
    "        for i in range(2, valor):\n",
    "            if valor % i == 0:\n",
    "                respuesta = False\n",
    "                break\n",
    "        \n",
    "    return respuesta\n",
    "\n",
    "EsPrimo(11)\n"
   ]
  },
  {
   "cell_type": "code",
   "execution_count": 57,
   "metadata": {},
   "outputs": [
    {
     "data": {
      "text/plain": [
       "'La edad del Gato de color Azul es de 1'"
      ]
     },
     "execution_count": 57,
     "metadata": {},
     "output_type": "execute_result"
    }
   ],
   "source": [
    "class claseAnimal:\n",
    "    def __init__(self,edad,especie,color):\n",
    "        self.edad = edad\n",
    "        self.especie = especie\n",
    "        self.color = color\n",
    "\n",
    "    def CumpliAnios(self):\n",
    "        self.edad = self.edad + 1\n",
    "        return f\"La edad del {self.especie} de color {self.color} es de {self.edad}\"\n",
    "    \n",
    "def ClaseAnimal(especie, color):\n",
    "\n",
    "    objeto = claseAnimal(0, especie, color)\n",
    "    return objeto\n",
    "\n",
    "a = ClaseAnimal(\"Gato\",\"Azul\")\n",
    "a.CumpliAnios()"
   ]
  }
 ],
 "metadata": {
  "kernelspec": {
   "display_name": ".venv",
   "language": "python",
   "name": "python3"
  },
  "language_info": {
   "codemirror_mode": {
    "name": "ipython",
    "version": 3
   },
   "file_extension": ".py",
   "mimetype": "text/x-python",
   "name": "python",
   "nbconvert_exporter": "python",
   "pygments_lexer": "ipython3",
   "version": "3.10.11"
  },
  "orig_nbformat": 4
 },
 "nbformat": 4,
 "nbformat_minor": 2
}
