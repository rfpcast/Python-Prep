{
 "cells": [
  {
   "attachments": {},
   "cell_type": "markdown",
   "metadata": {},
   "source": [
    "## Flujos de Control"
   ]
  },
  {
   "attachments": {},
   "cell_type": "markdown",
   "metadata": {},
   "source": [
    "1) Crear una variable que contenga un elemento del conjunto de números enteros y luego imprimir por pantalla si es mayor o menor a cero"
   ]
  },
  {
   "cell_type": "code",
   "execution_count": 1,
   "metadata": {},
   "outputs": [
    {
     "name": "stdout",
     "output_type": "stream",
     "text": [
      "Este numero es mayor a cero\n"
     ]
    }
   ],
   "source": [
    "x = 5 \n",
    "\n",
    "if x > 0:\n",
    "    print(\"Este numero es mayor a cero\")\n",
    "else:\n",
    "    print(\"Este numero es menor a cero\")"
   ]
  },
  {
   "attachments": {},
   "cell_type": "markdown",
   "metadata": {},
   "source": [
    "2) Crear dos variables y un condicional que informe si son del mismo tipo de dato"
   ]
  },
  {
   "cell_type": "code",
   "execution_count": 2,
   "metadata": {},
   "outputs": [
    {
     "name": "stdout",
     "output_type": "stream",
     "text": [
      "los datos no son iguales\n"
     ]
    }
   ],
   "source": [
    "x = \"2\"\n",
    "y = 2\n",
    "\n",
    "if type(x) == type(y):\n",
    "    print(\"los datos son iguales\")\n",
    "else:\n",
    "    print(\"los datos no son iguales\")"
   ]
  },
  {
   "attachments": {},
   "cell_type": "markdown",
   "metadata": {},
   "source": [
    "3) Para los valores enteros del 1 al 20, imprimir por pantalla si es par o impar"
   ]
  },
  {
   "cell_type": "code",
   "execution_count": 4,
   "metadata": {},
   "outputs": [
    {
     "name": "stdout",
     "output_type": "stream",
     "text": [
      "1\n",
      "este numero es impar\n",
      "2\n",
      "este numero es par\n",
      "3\n",
      "este numero es impar\n",
      "4\n",
      "este numero es par\n",
      "5\n",
      "este numero es impar\n",
      "6\n",
      "este numero es par\n",
      "7\n",
      "este numero es impar\n",
      "8\n",
      "este numero es par\n",
      "9\n",
      "este numero es impar\n",
      "10\n",
      "este numero es par\n",
      "11\n",
      "este numero es impar\n",
      "12\n",
      "este numero es par\n",
      "13\n",
      "este numero es impar\n",
      "14\n",
      "este numero es par\n",
      "15\n",
      "este numero es impar\n",
      "16\n",
      "este numero es par\n",
      "17\n",
      "este numero es impar\n",
      "18\n",
      "este numero es par\n",
      "19\n",
      "este numero es impar\n",
      "20\n",
      "este numero es par\n"
     ]
    }
   ],
   "source": [
    "for num in range(20):\n",
    "    num += 1\n",
    "    if (num % 2) == 0:\n",
    "        print(num)\n",
    "        print(\"este numero es par\")\n",
    "    else:\n",
    "        print(num)\n",
    "        print(\"este numero es impar\")"
   ]
  },
  {
   "attachments": {},
   "cell_type": "markdown",
   "metadata": {},
   "source": [
    "4) En un ciclo for mostrar para los valores entre 0 y 5 el resultado de elevarlo a la potencia igual a 3"
   ]
  },
  {
   "cell_type": "code",
   "execution_count": 5,
   "metadata": {},
   "outputs": [
    {
     "name": "stdout",
     "output_type": "stream",
     "text": [
      "1\n",
      "8\n",
      "27\n",
      "64\n",
      "125\n"
     ]
    }
   ],
   "source": [
    "for num in range(5):\n",
    "    num += 1\n",
    "    pot = num ** 3\n",
    "    print(pot)"
   ]
  },
  {
   "attachments": {},
   "cell_type": "markdown",
   "metadata": {},
   "source": [
    "5) Crear una variable que contenga un número entero y realizar un ciclo for la misma cantidad de ciclos"
   ]
  },
  {
   "cell_type": "code",
   "execution_count": 6,
   "metadata": {},
   "outputs": [
    {
     "name": "stdout",
     "output_type": "stream",
     "text": [
      "1\n",
      "2\n",
      "3\n",
      "4\n",
      "5\n",
      "6\n"
     ]
    }
   ],
   "source": [
    "x = 6\n",
    "for num in range(x):\n",
    "    num += 1\n",
    "    print(num)"
   ]
  },
  {
   "attachments": {},
   "cell_type": "markdown",
   "metadata": {},
   "source": [
    "6) Utilizar un ciclo while para realizar el factorial de un número guardado en una variable, sólo si la variable contiene un número entero mayor a 0"
   ]
  },
  {
   "cell_type": "code",
   "execution_count": 22,
   "metadata": {},
   "outputs": [
    {
     "name": "stdout",
     "output_type": "stream",
     "text": [
      "24\n"
     ]
    }
   ],
   "source": [
    "y = 4\n",
    "\n",
    "if y > 0:\n",
    "    m = (y-1) * y\n",
    "    y -= 2\n",
    "    while y > 0:    \n",
    "        m *= y\n",
    "        y -= 1  \n",
    "    print(m)\n",
    "else:\n",
    "    print(\"ingrese un numero mayor a cero\")"
   ]
  },
  {
   "attachments": {},
   "cell_type": "markdown",
   "metadata": {},
   "source": [
    "7) Crear un ciclo for dentro de un ciclo while"
   ]
  },
  {
   "cell_type": "code",
   "execution_count": 24,
   "metadata": {},
   "outputs": [
    {
     "name": "stdout",
     "output_type": "stream",
     "text": [
      "1\n",
      "2\n",
      "3\n",
      "4\n",
      "5\n",
      "6\n",
      "7\n",
      "8\n",
      "9\n",
      "10\n"
     ]
    }
   ],
   "source": [
    "while num < 10:\n",
    "    for num in range(10):\n",
    "        num += 1\n",
    "        print(num)"
   ]
  },
  {
   "attachments": {},
   "cell_type": "markdown",
   "metadata": {},
   "source": [
    "8) Crear un ciclo while dentro de un ciclo for"
   ]
  },
  {
   "cell_type": "code",
   "execution_count": 40,
   "metadata": {},
   "outputs": [
    {
     "name": "stdout",
     "output_type": "stream",
     "text": [
      "10\n",
      "9\n",
      "8\n",
      "7\n",
      "6\n",
      "5\n",
      "4\n",
      "3\n",
      "2\n",
      "1\n",
      "0\n"
     ]
    }
   ],
   "source": [
    "it = 10\n",
    "for num in range(1, it):\n",
    "   while it >= 0:\n",
    "       mult = num * it\n",
    "       it -= 1\n",
    "       print(mult)\n",
    "        "
   ]
  },
  {
   "attachments": {},
   "cell_type": "markdown",
   "metadata": {},
   "source": [
    "9) Imprimir los números primos existentes entre 0 y 30"
   ]
  },
  {
   "cell_type": "code",
   "execution_count": 57,
   "metadata": {},
   "outputs": [
    {
     "name": "stdout",
     "output_type": "stream",
     "text": [
      "0\n",
      "2\n",
      "3\n",
      "5\n",
      "7\n",
      "11\n",
      "13\n",
      "17\n",
      "19\n",
      "23\n",
      "29\n"
     ]
    }
   ],
   "source": [
    "for num in range(0,30):\n",
    "    if num == 1:\n",
    "        continue\n",
    "    elif num % 2 == 0 and num != 2 and num != 0:\n",
    "        continue\n",
    "    elif num % 3 == 0 and num != 3 and num != 0:\n",
    "        continue\n",
    "    elif num % 5 == 0 and num != 5 and num != 0:\n",
    "        continue\n",
    "    elif num % 7 == 0 and num != 7 and num != 0:\n",
    "        continue\n",
    "    print(num) "
   ]
  },
  {
   "attachments": {},
   "cell_type": "markdown",
   "metadata": {},
   "source": [
    "10) ¿Se puede mejorar el proceso del punto 9? Utilizar las sentencias break y/ó continue para tal fin"
   ]
  },
  {
   "cell_type": "code",
   "execution_count": 58,
   "metadata": {},
   "outputs": [
    {
     "name": "stdout",
     "output_type": "stream",
     "text": [
      "0\n",
      "2\n",
      "3\n",
      "5\n",
      "7\n",
      "11\n",
      "13\n",
      "17\n",
      "19\n",
      "23\n",
      "29\n"
     ]
    }
   ],
   "source": [
    "for num in range(0,30):\n",
    "    if num == 1:\n",
    "        continue\n",
    "    elif num % 2 == 0 and num != 2 and num != 0:\n",
    "        continue\n",
    "    elif num % 3 == 0 and num != 3 and num != 0:\n",
    "        continue\n",
    "    elif num % 5 == 0 and num != 5 and num != 0:\n",
    "        continue\n",
    "    elif num % 7 == 0 and num != 7 and num != 0:\n",
    "        continue\n",
    "    print(num) "
   ]
  },
  {
   "attachments": {},
   "cell_type": "markdown",
   "metadata": {},
   "source": [
    "11) En los puntos 9 y 10, se diseño un código que encuentra números primos y además se lo optimizó. ¿Es posible saber en qué medida se optimizó?"
   ]
  },
  {
   "cell_type": "code",
   "execution_count": null,
   "metadata": {},
   "outputs": [],
   "source": [
    "#aplicando la criba de eratostenes en un algoritmo"
   ]
  },
  {
   "attachments": {},
   "cell_type": "markdown",
   "metadata": {},
   "source": [
    "12) Aplicando continue, armar un ciclo while que solo imprima los valores divisibles por 12, dentro del rango de números de 100 a 300"
   ]
  },
  {
   "cell_type": "code",
   "execution_count": 2,
   "metadata": {},
   "outputs": [
    {
     "name": "stdout",
     "output_type": "stream",
     "text": [
      "108\n",
      "120\n",
      "132\n",
      "144\n",
      "156\n",
      "168\n",
      "180\n",
      "192\n",
      "204\n",
      "216\n",
      "228\n",
      "240\n",
      "252\n",
      "264\n",
      "276\n",
      "288\n",
      "300\n"
     ]
    }
   ],
   "source": [
    "n = 99\n",
    "while n < 300:\n",
    "    n += 1\n",
    "    if n % 12 > 0:\n",
    "        continue\n",
    "    print(n)"
   ]
  },
  {
   "attachments": {},
   "cell_type": "markdown",
   "metadata": {},
   "source": [
    "13) Utilizar la función **input()** que permite hacer ingresos por teclado, para encontrar números primos y dar la opción al usario de buscar el siguiente"
   ]
  },
  {
   "cell_type": "code",
   "execution_count": 3,
   "metadata": {},
   "outputs": [
    {
     "name": "stdout",
     "output_type": "stream",
     "text": [
      "Por favor ingrese un numero\n"
     ]
    }
   ],
   "source": [
    "primo = True\n",
    "    \n",
    "for num in range(2,x):\n",
    "       if x % num == 0:\n",
    "           primo = False\n",
    "           \n",
    "if primo:   \n",
    "    print(\"El numero \" + str(x) + \"no es primo\")\n",
    "else: \n",
    "    print(\"El numero \" + str(x) + \" es primo desea ver el proximo numero primo (Y/N)\")\n",
    "\n",
    "\n"
   ]
  },
  {
   "attachments": {},
   "cell_type": "markdown",
   "metadata": {},
   "source": [
    "14) Crear un ciclo while que encuentre dentro del rango de 100 a 300 el primer número divisible por 3 y además múltiplo de 6"
   ]
  },
  {
   "cell_type": "code",
   "execution_count": 1,
   "metadata": {},
   "outputs": [
    {
     "name": "stdout",
     "output_type": "stream",
     "text": [
      "102\n"
     ]
    }
   ],
   "source": [
    "n = 99\n",
    "while n < 300:\n",
    "    n += 1\n",
    "    if n % 3 == 0 and n % 6 == 0:\n",
    "        print(n)\n",
    "        break"
   ]
  }
 ],
 "metadata": {
  "interpreter": {
   "hash": "c85384e4cb51c8b72350f3a8712cc8351fdc3955e32a27f9b60c6242ab125f01"
  },
  "kernelspec": {
   "display_name": "Python 3 (ipykernel)",
   "language": "python",
   "name": "python3"
  },
  "language_info": {
   "codemirror_mode": {
    "name": "ipython",
    "version": 3
   },
   "file_extension": ".py",
   "mimetype": "text/x-python",
   "name": "python",
   "nbconvert_exporter": "python",
   "pygments_lexer": "ipython3",
   "version": "3.10.11"
  }
 },
 "nbformat": 4,
 "nbformat_minor": 4
}
